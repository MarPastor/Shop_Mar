{
 "cells": [
  {
   "cell_type": "markdown",
   "id": "3b5e82a8",
   "metadata": {},
   "source": [
    "## Ejercicio"
   ]
  },
  {
   "cell_type": "code",
   "execution_count": 286,
   "id": "65e2668a",
   "metadata": {},
   "outputs": [],
   "source": [
    "# tres estructuras principales con las que trabajar\n",
    "\n",
    "inventory = [] # lista de diccionario vacio con claves 'nombre', 'precio', 'cantidad'\n",
    "customers = {} # diccionario vacio con claves 'nombre', 'email'\n",
    "total_sales = 0.0 # variable que registra las ventas y empieza en '0' (float)"
   ]
  },
  {
   "cell_type": "code",
   "execution_count": 287,
   "id": "644d8d47",
   "metadata": {},
   "outputs": [],
   "source": [
    "# 1. agregar productos al inventario\n",
    "\n",
    "inventory = []\n",
    "\n",
    "def add_product(name, price, stock): # crear una funcion que agregue productos, tiene 'name', 'price' y 'stock' como parametros\n",
    "    found = False # determina cuando entra en el loop 'for' y cuando no se encuentra debe agregar el nuevo diccionario\n",
    "    for product in inventory: # recorrer la lista con un diccionario con el cual interactuar en la lista\n",
    "        if product['name'] == name: # busca en la lista el diccionario que coincida la clave 'name' con el parametro 'name' y actualiza el valor de la clave 'stock'\n",
    "            stock_update = 'stock' # variables locales para iterar con la clave 'stock' y el parametro 'stock'\n",
    "            new_stock = stock\n",
    "            product[stock_update] += new_stock # calculo para actualizar el valor de la clave 'stock' en el diccionario\n",
    "            found = True # para cerra el loop cuando se cumple esta condicion\n",
    "    if not found: # si no se cumple la condicion 'found' entonces actualiza la lista con un nuevo diccionario usando los parametros\n",
    "        inventory.append({'name': name, 'price': price,'stock': stock})\n",
    "    return inventory    "
   ]
  },
  {
   "cell_type": "code",
   "execution_count": 288,
   "id": "028c4ab9",
   "metadata": {},
   "outputs": [
    {
     "data": {
      "text/plain": [
       "[{'name': 'Shirt', 'price': 10, 'stock': 20}]"
      ]
     },
     "execution_count": 288,
     "metadata": {},
     "output_type": "execute_result"
    }
   ],
   "source": [
    "add_product('Shirt', 10, 20)"
   ]
  },
  {
   "cell_type": "code",
   "execution_count": 289,
   "id": "fe8a4525",
   "metadata": {},
   "outputs": [
    {
     "data": {
      "text/plain": [
       "[{'name': 'Shirt', 'price': 10, 'stock': 20},\n",
       " {'name': 'Skirt', 'price': 15, 'stock': 30}]"
      ]
     },
     "execution_count": 289,
     "metadata": {},
     "output_type": "execute_result"
    }
   ],
   "source": [
    "add_product('Skirt', 15, 30)"
   ]
  },
  {
   "cell_type": "code",
   "execution_count": 290,
   "id": "5d4edcbd",
   "metadata": {},
   "outputs": [
    {
     "data": {
      "text/plain": [
       "[{'name': 'Shirt', 'price': 10, 'stock': 35},\n",
       " {'name': 'Skirt', 'price': 15, 'stock': 30}]"
      ]
     },
     "execution_count": 290,
     "metadata": {},
     "output_type": "execute_result"
    }
   ],
   "source": [
    "add_product('Shirt', 10, 15)"
   ]
  },
  {
   "cell_type": "code",
   "execution_count": 291,
   "id": "97e861af",
   "metadata": {},
   "outputs": [
    {
     "data": {
      "text/plain": [
       "[{'name': 'Shirt', 'price': 10, 'stock': 35},\n",
       " {'name': 'Skirt', 'price': 15, 'stock': 30},\n",
       " {'name': 'Trouser', 'price': 25, 'stock': 40}]"
      ]
     },
     "execution_count": 291,
     "metadata": {},
     "output_type": "execute_result"
    }
   ],
   "source": [
    "add_product('Trouser', 25, 40)"
   ]
  },
  {
   "cell_type": "code",
   "execution_count": 292,
   "id": "4c6f1dd1",
   "metadata": {},
   "outputs": [
    {
     "data": {
      "text/plain": [
       "[{'name': 'Shirt', 'price': 10, 'stock': 35},\n",
       " {'name': 'Skirt', 'price': 15, 'stock': 30},\n",
       " {'name': 'Trouser', 'price': 25, 'stock': 45}]"
      ]
     },
     "execution_count": 292,
     "metadata": {},
     "output_type": "execute_result"
    }
   ],
   "source": [
    "add_product('Trouser', 25, 5)"
   ]
  },
  {
   "cell_type": "code",
   "execution_count": 293,
   "id": "2785991b",
   "metadata": {},
   "outputs": [
    {
     "name": "stdout",
     "output_type": "stream",
     "text": [
      "[{'name': 'Shirt', 'price': 10, 'stock': 35}, {'name': 'Skirt', 'price': 15, 'stock': 30}, {'name': 'Trouser', 'price': 25, 'stock': 45}]\n"
     ]
    }
   ],
   "source": [
    "print(inventory)"
   ]
  },
  {
   "cell_type": "code",
   "execution_count": 294,
   "id": "0d1ddb24",
   "metadata": {},
   "outputs": [],
   "source": [
    "# 2. ver inventario\n",
    "\n",
    "def check_inventory(): # definir una funcion sin parametro para verificar el inventario, variable global\n",
    "    for i in inventory: # por cada diciconario en el inventario guarda las claves en 'i'\n",
    "        print(f'Name: {i['name']}, Price: ${i['price']}, Stock: {i['stock']}') # imprime cada clave con su valor"
   ]
  },
  {
   "cell_type": "code",
   "execution_count": 295,
   "id": "85c08bea",
   "metadata": {},
   "outputs": [
    {
     "name": "stdout",
     "output_type": "stream",
     "text": [
      "Name: Shirt, Price: $10, Stock: 35\n",
      "Name: Skirt, Price: $15, Stock: 30\n",
      "Name: Trouser, Price: $25, Stock: 45\n"
     ]
    }
   ],
   "source": [
    "check_inventory()"
   ]
  },
  {
   "cell_type": "code",
   "execution_count": 296,
   "id": "31f93056",
   "metadata": {},
   "outputs": [],
   "source": [
    "# 3. buscar producto por nombre\n",
    "\n",
    "def search_product(name): # una funcion que busca un producto y tiene 'name' de parametro\n",
    "    found = False # condicion que si se cumpleempieza el loop 'for'\n",
    "    for product in inventory: # recorrer los diccionarios en la lista\n",
    "        if product['name'] == name.capitalize(): # si esta condicion se cumple, corre el codigo y toma en cuenta mayusculas en el parametro\n",
    "            print(f'Name: {product['name']}, Price: ${product['price']}, Stock: {product['stock']}')\n",
    "            found = True # se cumple, entonces cierra el loop\n",
    "    if not found: # si no encuentra el diccionario imprime un mensaje\n",
    "        print('The product does not exist')"
   ]
  },
  {
   "cell_type": "code",
   "execution_count": 297,
   "id": "0dae0307",
   "metadata": {},
   "outputs": [
    {
     "name": "stdout",
     "output_type": "stream",
     "text": [
      "Name: Skirt, Price: $15, Stock: 30\n"
     ]
    }
   ],
   "source": [
    "search_product('skirt')"
   ]
  },
  {
   "cell_type": "code",
   "execution_count": 298,
   "id": "2b9e6afd",
   "metadata": {},
   "outputs": [
    {
     "name": "stdout",
     "output_type": "stream",
     "text": [
      "The product does not exist\n"
     ]
    }
   ],
   "source": [
    "search_product('sweter')"
   ]
  },
  {
   "cell_type": "code",
   "execution_count": 299,
   "id": "6fba6572",
   "metadata": {},
   "outputs": [
    {
     "data": {
      "text/plain": [
       "[{'name': 'Shirt', 'price': 10, 'stock': 35},\n",
       " {'name': 'Skirt', 'price': 15, 'stock': 30},\n",
       " {'name': 'Trouser', 'price': 25, 'stock': 45}]"
      ]
     },
     "execution_count": 299,
     "metadata": {},
     "output_type": "execute_result"
    }
   ],
   "source": [
    "inventory"
   ]
  },
  {
   "cell_type": "code",
   "execution_count": 300,
   "id": "79551d4d",
   "metadata": {},
   "outputs": [],
   "source": [
    "# 4. actualiza stock\n",
    "\n",
    "def update_stock(name, stock): # definir una funcion que actualice el stock de un producto, tiene 'name' y 'stock' como parametros\n",
    "    found = False\n",
    "    for product in inventory: # recorrer la lista del inventario por cada diccionario\n",
    "        if product['name'] == name: # comprobar el diccionario que coincida la clave 'name' usando 'name' de parametro\n",
    "            stock_update = 'stock' # crear variables locales para hacer la operacion de actualizacion del valor de 'stock'\n",
    "            new_stock = stock\n",
    "            product[stock_update] += new_stock\n",
    "            print(product) # imprime el producto que actualizo con el resultado final\n",
    "            found = True\n",
    "    if not found: # si no se cumple la condicion 'found' entonces muestra un mensaje de indicando que no existe\n",
    "        print(f'The product \"{name}\" does not exist')"
   ]
  },
  {
   "cell_type": "code",
   "execution_count": 301,
   "id": "a496ae5c",
   "metadata": {},
   "outputs": [
    {
     "name": "stdout",
     "output_type": "stream",
     "text": [
      "{'name': 'Shirt', 'price': 10, 'stock': 25}\n"
     ]
    }
   ],
   "source": [
    "update_stock('Shirt', -10)"
   ]
  },
  {
   "cell_type": "code",
   "execution_count": 302,
   "id": "1a1817cc",
   "metadata": {},
   "outputs": [
    {
     "name": "stdout",
     "output_type": "stream",
     "text": [
      "The product \"Dress\" does not exist\n"
     ]
    }
   ],
   "source": [
    "update_stock('Dress', 10)"
   ]
  },
  {
   "cell_type": "code",
   "execution_count": 303,
   "id": "cdaca312",
   "metadata": {},
   "outputs": [
    {
     "data": {
      "text/plain": [
       "[{'name': 'Shirt', 'price': 10, 'stock': 25},\n",
       " {'name': 'Skirt', 'price': 15, 'stock': 30},\n",
       " {'name': 'Trouser', 'price': 25, 'stock': 45}]"
      ]
     },
     "execution_count": 303,
     "metadata": {},
     "output_type": "execute_result"
    }
   ],
   "source": [
    "inventory"
   ]
  },
  {
   "cell_type": "code",
   "execution_count": 304,
   "id": "a562c25c",
   "metadata": {},
   "outputs": [],
   "source": [
    "# 5. elimina un producto de la lista\n",
    "\n",
    "def delete_product(name): # definir una funcion que elimine un producto que tome 'nombre' como parametro\n",
    "    found = False # una condicion que se debe cumplir para entrar en el loop\n",
    "    for product in inventory: # recorrer los diccionarios del inventario\n",
    "        if product['name'] == name.capitalize(): # dentro de la lista se guardo la clave 'name' con mayusculas\n",
    "            inventory.remove(product) # elimina el producto que la clave 'name' coincida con el parametro introducido\n",
    "            print(f'The product \"{name.capitalize()}\" has been removed.')\n",
    "            found = True\n",
    "    if not found:\n",
    "        print('The product does not exist.')"
   ]
  },
  {
   "cell_type": "code",
   "execution_count": 305,
   "id": "038b5f67",
   "metadata": {},
   "outputs": [
    {
     "name": "stdout",
     "output_type": "stream",
     "text": [
      "The product \"Shirt\" has been removed.\n"
     ]
    }
   ],
   "source": [
    "delete_product('shirt')"
   ]
  },
  {
   "cell_type": "code",
   "execution_count": 306,
   "id": "b8870e91",
   "metadata": {},
   "outputs": [
    {
     "name": "stdout",
     "output_type": "stream",
     "text": [
      "The product does not exist.\n"
     ]
    }
   ],
   "source": [
    "delete_product('shirt')"
   ]
  },
  {
   "cell_type": "code",
   "execution_count": 307,
   "id": "2a4ffe67",
   "metadata": {},
   "outputs": [
    {
     "data": {
      "text/plain": [
       "[{'name': 'Skirt', 'price': 15, 'stock': 30},\n",
       " {'name': 'Trouser', 'price': 25, 'stock': 45}]"
      ]
     },
     "execution_count": 307,
     "metadata": {},
     "output_type": "execute_result"
    }
   ],
   "source": [
    "inventory"
   ]
  },
  {
   "cell_type": "code",
   "execution_count": 308,
   "id": "a10ac48c",
   "metadata": {},
   "outputs": [],
   "source": [
    "# 6. calcula el valor del inventario\n",
    "\n",
    "def calculate_total_inventory(): # una funcion que calcule el valor total de la variable global 'inventory'\n",
    "    total_value = sum((product['price'] * product['stock']) for product in inventory)\n",
    "    print(f'The total value of the inventory is: ${total_value}')\n",
    "\n",
    "# guardar en una variable que imprime el 'total_value' del 'inventory'\n",
    "# la variable local guarda la operacion de sumar una multiplicacion del valor del producto = 'price' * 'stock', por cada diccionario en 'inventory'"
   ]
  },
  {
   "cell_type": "code",
   "execution_count": 309,
   "id": "eee41be9",
   "metadata": {},
   "outputs": [
    {
     "name": "stdout",
     "output_type": "stream",
     "text": [
      "The total value of the inventory is: $1575\n"
     ]
    }
   ],
   "source": [
    "calculate_total_inventory()"
   ]
  },
  {
   "cell_type": "code",
   "execution_count": 310,
   "id": "755504af",
   "metadata": {},
   "outputs": [],
   "source": [
    "# 7. realizar compra\n",
    "\n",
    "inventory1 = [{'name': 'shirt', 'price': 15, 'stock': 5}, {'name': 'pant', 'price': 10, 'stock': 0}, {'name': 'dress', 'price': 20, 'stock': 10}]\n",
    "\n",
    "def make_sale():\n",
    "# 1. usa bucle 'while' para varias compras, comprueba que haya stock\n",
    "    for product in inventory1: # definir diccionario local que itera con el inventario\n",
    "        while product['stock'] != 0: # el loop no esta cumpliendo esta condicion\n",
    "# 2. muestra inventario disponible\n",
    "            print(f'There are {product['stock']} pieces of \"{product['name']}\"') # imprime toda la lista // revisar: imprime todos los diccionarios incluyendo con stock '0'\n",
    "# 3. solicita el nombre al cliente, y cantidad\n",
    "# 4. registra los datos en un carrito\n",
    "            if product['stock'] != 0: # si hay stock en los productos\n",
    "                product_client = input('What product do you like to buy?: ') # pregunta al cliente que decida el producto\n",
    "                if product['name'] == product_client: # busca el diccionario donde coincida la entrada del usuario\n",
    "                    amount_client = int(input('How many do you want to buy?: ')) # guarda la entrada del usuario en una variable local\n",
    "                    print(f'Shopping cart: \"{amount_client}\" of \"{product_client}\".') \n",
    "# 5. actualiza el inventario e imprime el inventario actualizado\n",
    "                if product['stock'] != 0: # verifica si hay stock y actualizar el stock\n",
    "                    new_stock = amount_client \n",
    "                    product['stock'] -= new_stock # elimina del stock la cantidad que compro el usuario\n",
    "# 6. calcula el costo total del carrito / compra       \n",
    "                if product['name'] == product_client: # con la variable del producto escogido por el usuario calculamos la compra\n",
    "                    price_product = product['price'] \n",
    "                    total_price = price_product * amount_client\n",
    "                    print(f'The total price is: ${total_price}')\n",
    "            else:\n",
    "                print(f'There is not enough stock of \"{product_client}\".')       \n",
    "# 7. imprime inventario actualizado despues de la compra\n",
    "        return"
   ]
  },
  {
   "cell_type": "code",
   "execution_count": 311,
   "id": "38869f61",
   "metadata": {},
   "outputs": [
    {
     "name": "stdout",
     "output_type": "stream",
     "text": [
      "There are 5 pieces of \"shirt\"\n",
      "Shopping cart: \"2\" of \"shirt\".\n",
      "The total price is: $30\n",
      "There are 3 pieces of \"shirt\"\n",
      "Shopping cart: \"3\" of \"shirt\".\n",
      "The total price is: $45\n"
     ]
    }
   ],
   "source": [
    "make_sale()"
   ]
  }
 ],
 "metadata": {
  "kernelspec": {
   "display_name": "base",
   "language": "python",
   "name": "python3"
  },
  "language_info": {
   "codemirror_mode": {
    "name": "ipython",
    "version": 3
   },
   "file_extension": ".py",
   "mimetype": "text/x-python",
   "name": "python",
   "nbconvert_exporter": "python",
   "pygments_lexer": "ipython3",
   "version": "3.12.7"
  }
 },
 "nbformat": 4,
 "nbformat_minor": 5
}
