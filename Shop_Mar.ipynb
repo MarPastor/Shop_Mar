{
 "cells": [
  {
   "cell_type": "markdown",
   "id": "3b5e82a8",
   "metadata": {},
   "source": [
    "## Shop\n",
    "\n",
    "### Instructions:\n",
    "\n",
    "Run each 'Code Cell' to verify each functionality of the program."
   ]
  },
  {
   "cell_type": "code",
   "execution_count": 27,
   "id": "65e2668a",
   "metadata": {},
   "outputs": [],
   "source": [
    "# run this cell to create the empty dictionaries that will store the store information\n",
    "\n",
    "# empty dictionary list with keys 'name', 'price', 'quantity'\n",
    "inventory = [] \n",
    "\n",
    "# empty dictionary with keys 'name', 'email'\n",
    "\n",
    "customers = {} \n",
    "\n",
    "# variable that records sales and starts at '0' (float)\n",
    "\n",
    "total_sales = 0.0"
   ]
  },
  {
   "cell_type": "code",
   "execution_count": 28,
   "id": "644d8d47",
   "metadata": {},
   "outputs": [],
   "source": [
    "# 1. add products to inventory\n",
    "\n",
    "inventory = []\n",
    "\n",
    "def add_product(name, price, stock): # function that adds products, has 'name', 'price' and 'stock' as parameters\n",
    "    found = False # determines when it enters the 'for' loop and when it is not found it must add the new dictionary\n",
    "    for product in inventory:\n",
    "        if product['name'] == name: # search the list for the dictionary that matches the 'name' key with the 'name' parameter and updates the value of the 'stock' key\n",
    "            stock_update = 'stock'\n",
    "            new_stock = stock\n",
    "            product[stock_update] += new_stock\n",
    "            found = True # close the loop when this condition is met\n",
    "    if not found: # if the 'found' condition is not met then update the list with a new dictionary using the parameters\n",
    "        inventory.append({'name': name, 'price': price,'stock': stock})\n",
    "    return inventory    "
   ]
  },
  {
   "cell_type": "code",
   "execution_count": 29,
   "id": "028c4ab9",
   "metadata": {},
   "outputs": [
    {
     "data": {
      "text/plain": [
       "[{'name': 'shirt', 'price': 10, 'stock': 20}]"
      ]
     },
     "execution_count": 29,
     "metadata": {},
     "output_type": "execute_result"
    }
   ],
   "source": [
    "# example adding 1 product\n",
    "\n",
    "add_product('shirt', 10, 20)"
   ]
  },
  {
   "cell_type": "code",
   "execution_count": 30,
   "id": "fe8a4525",
   "metadata": {},
   "outputs": [
    {
     "data": {
      "text/plain": [
       "[{'name': 'shirt', 'price': 10, 'stock': 20},\n",
       " {'name': 'skirt', 'price': 15, 'stock': 30}]"
      ]
     },
     "execution_count": 30,
     "metadata": {},
     "output_type": "execute_result"
    }
   ],
   "source": [
    "# example adding 2 product\n",
    "\n",
    "add_product('skirt', 15, 30)"
   ]
  },
  {
   "cell_type": "code",
   "execution_count": 31,
   "id": "5d4edcbd",
   "metadata": {},
   "outputs": [
    {
     "data": {
      "text/plain": [
       "[{'name': 'shirt', 'price': 10, 'stock': 35},\n",
       " {'name': 'skirt', 'price': 15, 'stock': 30}]"
      ]
     },
     "execution_count": 31,
     "metadata": {},
     "output_type": "execute_result"
    }
   ],
   "source": [
    "# example adding 3 product\n",
    "\n",
    "add_product('shirt', 10, 15)"
   ]
  },
  {
   "cell_type": "code",
   "execution_count": 32,
   "id": "97e861af",
   "metadata": {},
   "outputs": [
    {
     "data": {
      "text/plain": [
       "[{'name': 'shirt', 'price': 10, 'stock': 35},\n",
       " {'name': 'skirt', 'price': 15, 'stock': 30},\n",
       " {'name': 'trouser', 'price': 25, 'stock': 40}]"
      ]
     },
     "execution_count": 32,
     "metadata": {},
     "output_type": "execute_result"
    }
   ],
   "source": [
    "# example adding 4 product\n",
    "\n",
    "add_product('trouser', 25, 40)"
   ]
  },
  {
   "cell_type": "code",
   "execution_count": 33,
   "id": "4c6f1dd1",
   "metadata": {},
   "outputs": [
    {
     "data": {
      "text/plain": [
       "[{'name': 'shirt', 'price': 10, 'stock': 35},\n",
       " {'name': 'skirt', 'price': 15, 'stock': 30},\n",
       " {'name': 'trouser', 'price': 25, 'stock': 45}]"
      ]
     },
     "execution_count": 33,
     "metadata": {},
     "output_type": "execute_result"
    }
   ],
   "source": [
    "# example adding 5 product\n",
    "\n",
    "add_product('trouser', 25, 5)"
   ]
  },
  {
   "cell_type": "code",
   "execution_count": 34,
   "id": "2785991b",
   "metadata": {},
   "outputs": [
    {
     "name": "stdout",
     "output_type": "stream",
     "text": [
      "[{'name': 'shirt', 'price': 10, 'stock': 35}, {'name': 'skirt', 'price': 15, 'stock': 30}, {'name': 'trouser', 'price': 25, 'stock': 45}]\n"
     ]
    }
   ],
   "source": [
    "# check the current list\n",
    "\n",
    "print(inventory)"
   ]
  },
  {
   "cell_type": "code",
   "execution_count": 35,
   "id": "0d1ddb24",
   "metadata": {},
   "outputs": [],
   "source": [
    "# 2. check inventory\n",
    "\n",
    "def check_inventory():\n",
    "    for i in inventory:\n",
    "        print(f'Name: {i['name']}, Price: ${i['price']}, Stock: {i['stock']}')"
   ]
  },
  {
   "cell_type": "code",
   "execution_count": 36,
   "id": "85c08bea",
   "metadata": {},
   "outputs": [
    {
     "name": "stdout",
     "output_type": "stream",
     "text": [
      "Name: shirt, Price: $10, Stock: 35\n",
      "Name: skirt, Price: $15, Stock: 30\n",
      "Name: trouser, Price: $25, Stock: 45\n"
     ]
    }
   ],
   "source": [
    "check_inventory()"
   ]
  },
  {
   "cell_type": "code",
   "execution_count": 37,
   "id": "31f93056",
   "metadata": {},
   "outputs": [],
   "source": [
    "# 3. search product by name\n",
    "\n",
    "def search_product(name):\n",
    "    found = False \n",
    "    for product in inventory:\n",
    "        if product['name'] == name:\n",
    "            print(f'Name: {product['name']}, Price: ${product['price']}, Stock: {product['stock']}')\n",
    "            found = True \n",
    "    if not found:\n",
    "        print('The product does not exist')"
   ]
  },
  {
   "cell_type": "code",
   "execution_count": 38,
   "id": "0dae0307",
   "metadata": {},
   "outputs": [
    {
     "name": "stdout",
     "output_type": "stream",
     "text": [
      "Name: skirt, Price: $15, Stock: 30\n"
     ]
    }
   ],
   "source": [
    "search_product('skirt')"
   ]
  },
  {
   "cell_type": "code",
   "execution_count": 39,
   "id": "2b9e6afd",
   "metadata": {},
   "outputs": [
    {
     "name": "stdout",
     "output_type": "stream",
     "text": [
      "The product does not exist\n"
     ]
    }
   ],
   "source": [
    "search_product('sweter')"
   ]
  },
  {
   "cell_type": "code",
   "execution_count": 40,
   "id": "6fba6572",
   "metadata": {},
   "outputs": [
    {
     "data": {
      "text/plain": [
       "[{'name': 'shirt', 'price': 10, 'stock': 35},\n",
       " {'name': 'skirt', 'price': 15, 'stock': 30},\n",
       " {'name': 'trouser', 'price': 25, 'stock': 45}]"
      ]
     },
     "execution_count": 40,
     "metadata": {},
     "output_type": "execute_result"
    }
   ],
   "source": [
    "inventory"
   ]
  },
  {
   "cell_type": "code",
   "execution_count": 43,
   "id": "79551d4d",
   "metadata": {},
   "outputs": [],
   "source": [
    "# 4. update stock\n",
    "\n",
    "def update_stock(name, stock): \n",
    "    found = False\n",
    "    for product in inventory:\n",
    "        if product['name'] == name: \n",
    "            stock_update = 'stock'\n",
    "            product[stock_update] += stock\n",
    "            print(product) \n",
    "            found = True\n",
    "    if not found:\n",
    "        print(f'The product \"{name}\" does not exist')"
   ]
  },
  {
   "cell_type": "code",
   "execution_count": 44,
   "id": "a496ae5c",
   "metadata": {},
   "outputs": [
    {
     "name": "stdout",
     "output_type": "stream",
     "text": [
      "{'name': 'shirt', 'price': 10, 'stock': 20}\n"
     ]
    }
   ],
   "source": [
    "update_stock('shirt', -15)"
   ]
  },
  {
   "cell_type": "code",
   "execution_count": 45,
   "id": "1a1817cc",
   "metadata": {},
   "outputs": [
    {
     "name": "stdout",
     "output_type": "stream",
     "text": [
      "The product \"dress\" does not exist\n"
     ]
    }
   ],
   "source": [
    "update_stock('dress', 10)"
   ]
  },
  {
   "cell_type": "code",
   "execution_count": 46,
   "id": "cdaca312",
   "metadata": {},
   "outputs": [
    {
     "data": {
      "text/plain": [
       "[{'name': 'shirt', 'price': 10, 'stock': 20},\n",
       " {'name': 'skirt', 'price': 15, 'stock': 30},\n",
       " {'name': 'trouser', 'price': 25, 'stock': 45}]"
      ]
     },
     "execution_count": 46,
     "metadata": {},
     "output_type": "execute_result"
    }
   ],
   "source": [
    "inventory"
   ]
  },
  {
   "cell_type": "code",
   "execution_count": 48,
   "id": "a562c25c",
   "metadata": {},
   "outputs": [],
   "source": [
    "# 5. delete a product from the list\n",
    "\n",
    "def delete_product(name): \n",
    "    found = False \n",
    "    for product in inventory: \n",
    "        if product['name'] == name: \n",
    "            inventory.remove(product) \n",
    "            print(f'The product \"{name}\" has been removed.')\n",
    "            found = True\n",
    "    if not found:\n",
    "        print('The product does not exist.')"
   ]
  },
  {
   "cell_type": "code",
   "execution_count": 49,
   "id": "038b5f67",
   "metadata": {},
   "outputs": [
    {
     "name": "stdout",
     "output_type": "stream",
     "text": [
      "The product \"shirt\" has been removed.\n"
     ]
    }
   ],
   "source": [
    "delete_product('shirt')"
   ]
  },
  {
   "cell_type": "code",
   "execution_count": 50,
   "id": "b8870e91",
   "metadata": {},
   "outputs": [
    {
     "name": "stdout",
     "output_type": "stream",
     "text": [
      "The product does not exist.\n"
     ]
    }
   ],
   "source": [
    "delete_product('shirt')"
   ]
  },
  {
   "cell_type": "code",
   "execution_count": 51,
   "id": "2a4ffe67",
   "metadata": {},
   "outputs": [
    {
     "data": {
      "text/plain": [
       "[{'name': 'skirt', 'price': 15, 'stock': 30},\n",
       " {'name': 'trouser', 'price': 25, 'stock': 45}]"
      ]
     },
     "execution_count": 51,
     "metadata": {},
     "output_type": "execute_result"
    }
   ],
   "source": [
    "inventory"
   ]
  },
  {
   "cell_type": "code",
   "execution_count": 55,
   "id": "a10ac48c",
   "metadata": {},
   "outputs": [],
   "source": [
    "# 6. calculate the inventory total value\n",
    "\n",
    "def calculate_total_inventory():\n",
    "    total_value = sum((product['price'] * product['stock']) for product in inventory)\n",
    "    print(f'The total value of the inventory is: ${total_value}')"
   ]
  },
  {
   "cell_type": "code",
   "execution_count": 54,
   "id": "eee41be9",
   "metadata": {},
   "outputs": [
    {
     "name": "stdout",
     "output_type": "stream",
     "text": [
      "The total value of the inventory is: $1575\n"
     ]
    }
   ],
   "source": [
    "calculate_total_inventory()"
   ]
  },
  {
   "cell_type": "code",
   "execution_count": 64,
   "id": "755504af",
   "metadata": {},
   "outputs": [],
   "source": [
    "# 7. make a sale\n",
    "\n",
    "inventory1 = [{'name': 'shirt', 'price': 15, 'stock': 5}, {'name': 'pant', 'price': 10, 'stock': 0}, {'name': 'dress', 'price': 20, 'stock': 10}]\n",
    "\n",
    "def make_sale():\n",
    "    for product in inventory1:\n",
    "        while product['stock'] != 0:\n",
    "            print(f'There are {product['stock']} pieces of {product['name']}')\n",
    "# 3. solicita el nombre al cliente, y cantidad\n",
    "\n",
    "# 4. registra los datos en un carrito\n",
    "            if product['stock'] != 0:\n",
    "                product_client = input('What product do you like to buy?: ')\n",
    "                if product['name'] == product_client:\n",
    "                    amount_client = int(input('How many do you want to buy?: '))\n",
    "                    print(f'Shopping cart: \"{amount_client}\" of \"{product_client}\".') \n",
    "                if product['stock'] != 0:\n",
    "                    product['stock'] -= amount_client\n",
    "# 6. calcula el costo total del carrito / compra       \n",
    "                if product['name'] == product_client:\n",
    "                    price_product = product['price'] \n",
    "                    total_price = price_product * amount_client\n",
    "                    print(f'The total price is: ${total_price}')\n",
    "            else:\n",
    "                print(f'There is not enough stock of \"{product_client}\".')\n",
    "        break\n",
    "    return"
   ]
  },
  {
   "cell_type": "code",
   "execution_count": 65,
   "id": "38869f61",
   "metadata": {},
   "outputs": [
    {
     "name": "stdout",
     "output_type": "stream",
     "text": [
      "There are 5 pieces of shirt\n",
      "Shopping cart: \"1\" of \"shirt\".\n",
      "The total price is: $15\n",
      "There are 4 pieces of shirt\n",
      "Shopping cart: \"2\" of \"shirt\".\n",
      "The total price is: $30\n",
      "There are 2 pieces of shirt\n"
     ]
    }
   ],
   "source": [
    "make_sale()"
   ]
  }
 ],
 "metadata": {
  "kernelspec": {
   "display_name": "base",
   "language": "python",
   "name": "python3"
  },
  "language_info": {
   "codemirror_mode": {
    "name": "ipython",
    "version": 3
   },
   "file_extension": ".py",
   "mimetype": "text/x-python",
   "name": "python",
   "nbconvert_exporter": "python",
   "pygments_lexer": "ipython3",
   "version": "3.12.7"
  }
 },
 "nbformat": 4,
 "nbformat_minor": 5
}
